{
 "cells": [
  {
   "cell_type": "code",
   "execution_count": 3,
   "id": "34d9731c-ae2a-45d8-9e1c-c6bc6aa04a77",
   "metadata": {},
   "outputs": [
    {
     "name": "stdout",
     "output_type": "stream",
     "text": [
      "Original array:\n",
      " [[27 30  1]\n",
      " [17 49 76]\n",
      " [60 82 12]]\n",
      "\n",
      "Array with rows and columns interchanged:\n",
      " [[27 17 60]\n",
      " [30 49 82]\n",
      " [ 1 76 12]]\n"
     ]
    }
   ],
   "source": [
    "#1. Create a 3x3 NumPy array with random integers between 1 and 100. Then, interchange its rows and columns\n",
    "import numpy as np\n",
    "\n",
    "# Generate a 3x3 array with random integers between 1 and 100 (inclusive)\n",
    "arr = np.random.randint(1, 101, size=(3, 3))\n",
    "\n",
    "# Interchange rows and columns using transposition\n",
    "interchanged_arr = arr.T\n",
    "\n",
    "# Print the original array and the interchanged array\n",
    "print(\"Original array:\\n\", arr)\n",
    "print(\"\\nArray with rows and columns interchanged:\\n\", interchanged_arr)\n"
   ]
  },
  {
   "cell_type": "code",
   "execution_count": 4,
   "id": "227620d0-62fc-461b-b0fc-8e60d72af912",
   "metadata": {},
   "outputs": [
    {
     "name": "stdout",
     "output_type": "stream",
     "text": [
      "Original array: [0 1 2 3 4 5 6 7 8 9]\n",
      "\n",
      "Reshaped into 2x5 array: [[0 1 2 3 4]\n",
      " [5 6 7 8 9]]\n",
      "\n",
      "Reshaped into 5x2 array: [[0 1]\n",
      " [2 3]\n",
      " [4 5]\n",
      " [6 7]\n",
      " [8 9]]\n"
     ]
    }
   ],
   "source": [
    "#2. Generate a 1D NumPy array with 10 elements. Reshape it into a 2x5 array, then into a 5x2 array.\n",
    "import numpy as np\n",
    "\n",
    "# Generate a 1D array with 10 elements\n",
    "arr = np.arange(10)  # Creates an array from 0 to 9\n",
    "\n",
    "# Reshape into a 2x5 array\n",
    "reshaped_2x5 = arr.reshape(2, 5)\n",
    "\n",
    "# Reshape into a 5x2 array\n",
    "reshaped_5x2 = arr.reshape(5, 2)\n",
    "\n",
    "# Print the original array and the reshaped arrays\n",
    "print(\"Original array:\", arr)\n",
    "print(\"\\nReshaped into 2x5 array:\", reshaped_2x5)\n",
    "print(\"\\nReshaped into 5x2 array:\", reshaped_5x2)\n"
   ]
  },
  {
   "cell_type": "code",
   "execution_count": 5,
   "id": "25534c62-ff3b-4a7a-8335-3951321ff1b6",
   "metadata": {},
   "outputs": [
    {
     "name": "stdout",
     "output_type": "stream",
     "text": [
      "Original array:\n",
      " [[0.38346065 0.19876846 0.57310963 0.15295505]\n",
      " [0.99406465 0.56811981 0.24336346 0.10618796]\n",
      " [0.1391982  0.11134074 0.00576382 0.01847791]\n",
      " [0.51669124 0.47361307 0.32314791 0.03334469]]\n",
      "\n",
      "Array with border of zeros:\n",
      " [[0.         0.         0.         0.         0.         0.        ]\n",
      " [0.         0.38346065 0.19876846 0.57310963 0.15295505 0.        ]\n",
      " [0.         0.99406465 0.56811981 0.24336346 0.10618796 0.        ]\n",
      " [0.         0.1391982  0.11134074 0.00576382 0.01847791 0.        ]\n",
      " [0.         0.51669124 0.47361307 0.32314791 0.03334469 0.        ]\n",
      " [0.         0.         0.         0.         0.         0.        ]]\n"
     ]
    }
   ],
   "source": [
    "#3.Create a 4x4 NumPy array with random float values. Add a border of zeros around it, resulting in a 6x6 array.\n",
    "import numpy as np\n",
    "\n",
    "# Generate a 4x4 array with random float values\n",
    "arr = np.random.rand(4, 4)\n",
    "\n",
    "# Add a border of zeros using padding\n",
    "padded_arr = np.pad(arr, pad_width=1, mode='constant', constant_values=0)\n",
    "\n",
    "# Print the original array and the padded array\n",
    "print(\"Original array:\\n\", arr)\n",
    "print(\"\\nArray with border of zeros:\\n\", padded_arr)\n"
   ]
  },
  {
   "cell_type": "code",
   "execution_count": 6,
   "id": "894087ae-e89b-4584-8d39-8d7c0b6c9bb3",
   "metadata": {},
   "outputs": [
    {
     "name": "stdout",
     "output_type": "stream",
     "text": [
      "[10 15 20 25 30 35 40 45 50 55 60]\n"
     ]
    }
   ],
   "source": [
    "#4. Using NumPy, create an array of integers from 10 to 60 with a step of 5.\n",
    "import numpy as np\n",
    "\n",
    "# Create the array using np.arange\n",
    "arr = np.arange(10, 61, 5)\n",
    "\n",
    "# Print the array\n",
    "print(arr)\n"
   ]
  },
  {
   "cell_type": "code",
   "execution_count": 11,
   "id": "820f46a1-08f5-4324-bb02-555c1e7142a6",
   "metadata": {},
   "outputs": [
    {
     "name": "stdout",
     "output_type": "stream",
     "text": [
      "Original array: ['python' 'numpy' 'pandas']\n",
      "\n",
      "Uppercase: ['PYTHON' 'NUMPY' 'PANDAS']\n",
      "\n",
      "Lowercase: ['python' 'numpy' 'pandas']\n",
      "\n",
      "Title case: ['Python' 'Numpy' 'Pandas']\n"
     ]
    }
   ],
   "source": [
    "#5. Create a NumPy array of strings ['python', 'numpy', 'pandas']. Apply different case transformations\n",
    "#(uppercase, lowercase, title case, etc.) to each element.\n",
    "import numpy as np\n",
    "\n",
    "# Create the array of strings\n",
    "string_arr = np.array(['python', 'numpy', 'pandas'])\n",
    "\n",
    "# Uppercase transformation (using np.char.upper)\n",
    "uppercase_arr = np.char.upper(string_arr)\n",
    "\n",
    "# Lowercase transformation\n",
    "lowercase_arr = np.char.lower(string_arr)\n",
    "\n",
    "# Title case transformation\n",
    "title_arr = np.char.title(string_arr)\n",
    "\n",
    "# Print the original array and transformed arrays\n",
    "print(\"Original array:\", string_arr)\n",
    "print(\"\\nUppercase:\", uppercase_arr)\n",
    "print(\"\\nLowercase:\", lowercase_arr)\n",
    "print(\"\\nTitle case:\", title_arr)\n"
   ]
  },
  {
   "cell_type": "code",
   "execution_count": 12,
   "id": "531d47f8-9c69-4292-96b9-de9a8b7d4c95",
   "metadata": {},
   "outputs": [
    {
     "name": "stdout",
     "output_type": "stream",
     "text": [
      "Original array: ['hello' 'world' 'python']\n",
      "\n",
      "Array with spaces between characters: ['h e l l o' 'w o r l d' 'p y t h o n']\n"
     ]
    }
   ],
   "source": [
    "#6.Generate a NumPy array of words. Insert a space between each character of every word in the array.\n",
    "import numpy as np\n",
    "\n",
    "# Create a NumPy array of words\n",
    "words = np.array(['hello', 'world', 'python'])\n",
    "\n",
    "# Function to insert spaces between characters\n",
    "def insert_spaces(word):\n",
    "    return ' '.join(list(word))\n",
    "\n",
    "# Apply the function to each element using vectorized operations\n",
    "spaced_words = np.vectorize(insert_spaces)(words)\n",
    "\n",
    "# Print the original and spaced arrays\n",
    "print(\"Original array:\", words)\n",
    "print(\"\\nArray with spaces between characters:\", spaced_words)\n",
    "\n"
   ]
  },
  {
   "cell_type": "code",
   "execution_count": 14,
   "id": "f997bc7c-17bc-4f88-b6e6-7b614aa7e2ea",
   "metadata": {},
   "outputs": [
    {
     "name": "stdout",
     "output_type": "stream",
     "text": [
      "Array 1:\n",
      " [[3 5 4 5]\n",
      " [8 7 4 2]\n",
      " [2 8 4 5]]\n",
      "\n",
      "Array 2:\n",
      " [[6 5 3 5]\n",
      " [9 9 4 4]\n",
      " [6 9 4 9]]\n",
      "\n",
      "Added array:\n",
      " [[ 9 10  7 10]\n",
      " [17 16  8  6]\n",
      " [ 8 17  8 14]]\n",
      "\n",
      "Subtracted array:\n",
      " [[-3  0  1  0]\n",
      " [-1 -2  0 -2]\n",
      " [-4 -1  0 -4]]\n",
      "\n",
      "Multiplied array:\n",
      " [[18 25 12 25]\n",
      " [72 63 16  8]\n",
      " [12 72 16 45]]\n",
      "\n",
      "Divided array:\n",
      " [[0.5        1.         1.33333333 1.        ]\n",
      " [0.88888889 0.77777778 1.         0.5       ]\n",
      " [0.33333333 0.88888889 1.         0.55555556]]\n"
     ]
    }
   ],
   "source": [
    "#7. Create two 2D NumPy arrays and perform element-wise addition, subtraction, multiplication, and division.\n",
    "import numpy as np\n",
    "\n",
    "# Create two 2D NumPy arrays with random integers\n",
    "arr1 = np.random.randint(1, 10, size=(3, 4))  # Creates a 3x4 array with random integers\n",
    "arr2 = np.random.randint(1, 10, size=(3, 4))  # Creates another 3x4 array with random integers\n",
    "\n",
    "# Element-wise addition\n",
    "added_arr = arr1 + arr2\n",
    "\n",
    "# Element-wise subtraction\n",
    "subtracted_arr = arr1 - arr2\n",
    "\n",
    "# Element-wise multiplication\n",
    "multiplied_arr = arr1 * arr2\n",
    "\n",
    "# Element-wise division (ensuring no division by zero)\n",
    "divided_arr = np.divide(arr1, arr2, where=arr2 != 0)  # Avoids division by zero\n",
    "\n",
    "# Print the original arrays and the results\n",
    "print(\"Array 1:\\n\", arr1)\n",
    "print(\"\\nArray 2:\\n\", arr2)\n",
    "print(\"\\nAdded array:\\n\", added_arr)\n",
    "print(\"\\nSubtracted array:\\n\", subtracted_arr)\n",
    "print(\"\\nMultiplied array:\\n\", multiplied_arr)\n",
    "print(\"\\nDivided array:\\n\", divided_arr)\n"
   ]
  },
  {
   "cell_type": "code",
   "execution_count": 15,
   "id": "a9e300d4-372d-4392-82f5-c9067b8d9fe9",
   "metadata": {},
   "outputs": [
    {
     "name": "stdout",
     "output_type": "stream",
     "text": [
      "Identity matrix:\n",
      " [[1. 0. 0. 0. 0.]\n",
      " [0. 1. 0. 0. 0.]\n",
      " [0. 0. 1. 0. 0.]\n",
      " [0. 0. 0. 1. 0.]\n",
      " [0. 0. 0. 0. 1.]]\n",
      "\n",
      "Diagonal elements: [1. 1. 1. 1. 1.]\n"
     ]
    }
   ],
   "source": [
    "#8.Use NumPy to create a 5x5 identity matrix, then extract its diagonal elements.\n",
    "import numpy as np\n",
    "\n",
    "# Create a 5x5 identity matrix using np.eye\n",
    "identity_matrix = np.eye(5)\n",
    "\n",
    "# Extract diagonal elements using np.diagonal\n",
    "diagonal_elements = np.diagonal(identity_matrix)\n",
    "\n",
    "# Print the identity matrix and diagonal elements\n",
    "print(\"Identity matrix:\\n\", identity_matrix)\n",
    "print(\"\\nDiagonal elements:\", diagonal_elements)\n"
   ]
  },
  {
   "cell_type": "code",
   "execution_count": 35,
   "id": "0619a0b9-585e-47e3-8670-905cdabbba97",
   "metadata": {},
   "outputs": [
    {
     "name": "stdout",
     "output_type": "stream",
     "text": [
      "Random integers: [ 31  31 427 115 804 449 395 989 319  16 353 229 778 986 900 699 621 987\n",
      " 800 649 125 595 779 767 516 163 523 891 864 984 356 845 959 479  48  55\n",
      " 470 903 326 445 413 797 457 109  95 222 638 165 268 838 149  75 858 366\n",
      " 765 457 848 498 590 186 508 716 974 882 897 897 192 694 845 969 831 792\n",
      " 180 401 903  28 954 691 317 607 610 383 123 941 610 388 794 343 166 438\n",
      " 862 241 420 250 164 955 600 603 398 910]\n",
      "Prime numbers in the array: [31, 31, 449, 353, 229, 163, 523, 479, 797, 457, 109, 149, 457, 401, 691, 317, 607, 383, 941, 241]\n"
     ]
    }
   ],
   "source": [
    "#9. Generate a NumPy array of 100 random integers between 0 and 1000. Find and display all prime numbers in\n",
    "#this array.\n",
    "\n",
    "import numpy as np\n",
    "\n",
    "# Function to check if a number is prime\n",
    "def is_prime(n):\n",
    "    if n <= 1:\n",
    "        return False\n",
    "    if n <= 3:\n",
    "        return True\n",
    "    if n % 2 == 0 or n % 3 == 0:\n",
    "        return False\n",
    "    i = 5\n",
    "    while i * i <= n:\n",
    "        if n % i == 0 or n % (i + 2) == 0:\n",
    "            return False\n",
    "        i += 6\n",
    "    return True\n",
    "\n",
    "# Generate a NumPy array of 100 random integers between 0 and 1000\n",
    "random_integers = np.random.randint(0, 1001, 100)\n",
    "\n",
    "# Find all prime numbers in the array\n",
    "primes_in_array = [num for num in random_integers if is_prime(num)]\n",
    "\n",
    "print(\"Random integers:\", random_integers)\n",
    "print(\"Prime numbers in the array:\", primes_in_array)\n",
    "\n"
   ]
  },
  {
   "cell_type": "code",
   "execution_count": 36,
   "id": "ee6c4149-1243-4d05-95bc-4d970fbd5ac3",
   "metadata": {},
   "outputs": [
    {
     "name": "stdout",
     "output_type": "stream",
     "text": [
      "Daily temperatures: [24 24 27 24 21 30 23 27 32 28 30 21 34 30 20 22 22 22 26 31 31 34 30 21\n",
      " 28 20 21 23 24 22]\n",
      "Weekly averages: [24.714285714285715, 28.857142857142858, 24.857142857142858, 25.285714285714285, 23.0]\n"
     ]
    }
   ],
   "source": [
    "#10. Create a NumPy array representing daily temperatures for a month. Calculate and display the weekly\n",
    "#averages.\n",
    "import numpy as np\n",
    "\n",
    "# Generate a NumPy array representing daily temperatures for a month (30 days)\n",
    "daily_temperatures = np.random.randint(20, 35, 30)  # Random temperatures between 20 and 35 degrees Celsius\n",
    "\n",
    "# Calculate the weekly averages\n",
    "weekly_averages = [np.mean(daily_temperatures[i:i+7]) for i in range(0, len(daily_temperatures), 7)]\n",
    "\n",
    "print(\"Daily temperatures:\", daily_temperatures)\n",
    "print(\"Weekly averages:\", weekly_averages)\n",
    "\n"
   ]
  },
  {
   "cell_type": "code",
   "execution_count": null,
   "id": "d3e42dbb-f3f1-4b91-bb6f-e736b8618779",
   "metadata": {},
   "outputs": [],
   "source": []
  }
 ],
 "metadata": {
  "kernelspec": {
   "display_name": "Python 3 (ipykernel)",
   "language": "python",
   "name": "python3"
  },
  "language_info": {
   "codemirror_mode": {
    "name": "ipython",
    "version": 3
   },
   "file_extension": ".py",
   "mimetype": "text/x-python",
   "name": "python",
   "nbconvert_exporter": "python",
   "pygments_lexer": "ipython3",
   "version": "3.10.8"
  }
 },
 "nbformat": 4,
 "nbformat_minor": 5
}
